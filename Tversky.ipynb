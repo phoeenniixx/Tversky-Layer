{
  "cells": [
    {
      "cell_type": "code",
      "execution_count": 1,
      "metadata": {
        "colab": {
          "base_uri": "https://localhost:8080/"
        },
        "id": "H0kBqY_zSMYv",
        "outputId": "306c0893-e9f3-4a1b-9ad3-4bed4724f1e5"
      },
      "outputs": [
        {
          "name": "stdout",
          "output_type": "stream",
          "text": [
            "\u001b[2K   \u001b[90m━━━━━━━━━━━━━━━━━━━━━━━━━━━━━━━━━━━━━━━━\u001b[0m \u001b[32m363.4/363.4 MB\u001b[0m \u001b[31m4.6 MB/s\u001b[0m eta \u001b[36m0:00:00\u001b[0m\n",
            "\u001b[2K   \u001b[90m━━━━━━━━━━━━━━━━━━━━━━━━━━━━━━━━━━━━━━━━\u001b[0m \u001b[32m13.8/13.8 MB\u001b[0m \u001b[31m97.6 MB/s\u001b[0m eta \u001b[36m0:00:00\u001b[0m\n",
            "\u001b[2K   \u001b[90m━━━━━━━━━━━━━━━━━━━━━━━━━━━━━━━━━━━━━━━━\u001b[0m \u001b[32m24.6/24.6 MB\u001b[0m \u001b[31m21.3 MB/s\u001b[0m eta \u001b[36m0:00:00\u001b[0m\n",
            "\u001b[2K   \u001b[90m━━━━━━━━━━━━━━━━━━━━━━━━━━━━━━━━━━━━━━━━\u001b[0m \u001b[32m883.7/883.7 kB\u001b[0m \u001b[31m49.2 MB/s\u001b[0m eta \u001b[36m0:00:00\u001b[0m\n",
            "\u001b[2K   \u001b[90m━━━━━━━━━━━━━━━━━━━━━━━━━━━━━━━━━━━━━━━━\u001b[0m \u001b[32m664.8/664.8 MB\u001b[0m \u001b[31m2.0 MB/s\u001b[0m eta \u001b[36m0:00:00\u001b[0m\n",
            "\u001b[2K   \u001b[90m━━━━━━━━━━━━━━━━━━━━━━━━━━━━━━━━━━━━━━━━\u001b[0m \u001b[32m211.5/211.5 MB\u001b[0m \u001b[31m5.3 MB/s\u001b[0m eta \u001b[36m0:00:00\u001b[0m\n",
            "\u001b[2K   \u001b[90m━━━━━━━━━━━━━━━━━━━━━━━━━━━━━━━━━━━━━━━━\u001b[0m \u001b[32m56.3/56.3 MB\u001b[0m \u001b[31m16.4 MB/s\u001b[0m eta \u001b[36m0:00:00\u001b[0m\n",
            "\u001b[2K   \u001b[90m━━━━━━━━━━━━━━━━━━━━━━━━━━━━━━━━━━━━━━━━\u001b[0m \u001b[32m127.9/127.9 MB\u001b[0m \u001b[31m7.6 MB/s\u001b[0m eta \u001b[36m0:00:00\u001b[0m\n",
            "\u001b[2K   \u001b[90m━━━━━━━━━━━━━━━━━━━━━━━━━━━━━━━━━━━━━━━━\u001b[0m \u001b[32m207.5/207.5 MB\u001b[0m \u001b[31m5.6 MB/s\u001b[0m eta \u001b[36m0:00:00\u001b[0m\n",
            "\u001b[2K   \u001b[90m━━━━━━━━━━━━━━━━━━━━━━━━━━━━━━━━━━━━━━━━\u001b[0m \u001b[32m188.7/188.7 MB\u001b[0m \u001b[31m5.7 MB/s\u001b[0m eta \u001b[36m0:00:00\u001b[0m\n",
            "\u001b[2K   \u001b[90m━━━━━━━━━━━━━━━━━━━━━━━━━━━━━━━━━━━━━━━━\u001b[0m \u001b[32m21.1/21.1 MB\u001b[0m \u001b[31m103.6 MB/s\u001b[0m eta \u001b[36m0:00:00\u001b[0m\n",
            "\u001b[2K   \u001b[90m━━━━━━━━━━━━━━━━━━━━━━━━━━━━━━━━━━━━━━━━\u001b[0m \u001b[32m828.2/828.2 kB\u001b[0m \u001b[31m61.0 MB/s\u001b[0m eta \u001b[36m0:00:00\u001b[0m\n",
            "\u001b[2K   \u001b[90m━━━━━━━━━━━━━━━━━━━━━━━━━━━━━━━━━━━━━━━━\u001b[0m \u001b[32m260.9/260.9 kB\u001b[0m \u001b[31m27.7 MB/s\u001b[0m eta \u001b[36m0:00:00\u001b[0m\n",
            "\u001b[2K   \u001b[90m━━━━━━━━━━━━━━━━━━━━━━━━━━━━━━━━━━━━━━━━\u001b[0m \u001b[32m824.2/824.2 kB\u001b[0m \u001b[31m14.6 MB/s\u001b[0m eta \u001b[36m0:00:00\u001b[0m\n",
            "\u001b[2K   \u001b[90m━━━━━━━━━━━━━━━━━━━━━━━━━━━━━━━━━━━━━━━━\u001b[0m \u001b[32m983.0/983.0 kB\u001b[0m \u001b[31m68.2 MB/s\u001b[0m eta \u001b[36m0:00:00\u001b[0m\n",
            "\u001b[?25h"
          ]
        }
      ],
      "source": [
        "!pip install -q torch pytorch-lightning pytorch-forecasting"
      ]
    },
    {
      "cell_type": "code",
      "execution_count": 2,
      "metadata": {
        "colab": {
          "base_uri": "https://localhost:8080/"
        },
        "id": "0BrI8kgYrGbm",
        "outputId": "1a072b4f-565d-44fd-8ab4-11e7608d2645"
      },
      "outputs": [
        {
          "name": "stdout",
          "output_type": "stream",
          "text": [
            "/content\n",
            "Cloning into 'Tversky-Layer'...\n",
            "remote: Enumerating objects: 41, done.\u001b[K\n",
            "remote: Counting objects: 100% (41/41), done.\u001b[K\n",
            "remote: Compressing objects: 100% (30/30), done.\u001b[K\n",
            "remote: Total 41 (delta 12), reused 33 (delta 7), pack-reused 0 (from 0)\u001b[K\n",
            "Receiving objects: 100% (41/41), 12.04 KiB | 12.04 MiB/s, done.\n",
            "Resolving deltas: 100% (12/12), done.\n"
          ]
        }
      ],
      "source": [
        "%cd /content/\n",
        "!git clone https://github.com/phoeenniixx/Tversky-Layer"
      ]
    },
    {
      "cell_type": "code",
      "execution_count": null,
      "metadata": {
        "colab": {
          "base_uri": "https://localhost:8080/"
        },
        "id": "QBvIxpfdTAJK",
        "outputId": "a95f25b3-7da8-49bf-b600-3e6bc819356b"
      },
      "outputs": [
        {
          "name": "stderr",
          "output_type": "stream",
          "text": [
            "INFO: Seed set to 42\n",
            "INFO:lightning.fabric.utilities.seed:Seed set to 42\n"
          ]
        }
      ],
      "source": [
        "import sys\n",
        "import warnings\n",
        "import torch\n",
        "import torch.nn as nn\n",
        "import lightning.pytorch as pl\n",
        "import numpy as np\n",
        "import pandas as pd\n",
        "import matplotlib.pyplot as plt\n",
        "from lightning.pytorch.callbacks import EarlyStopping, LearningRateMonitor\n",
        "from lightning.pytorch.loggers import TensorBoardLogger\n",
        "from sklearn.metrics import mean_absolute_error, mean_squared_error\n",
        "import time\n",
        "\n",
        "sys.path.append('/content/Tversky-Layer')\n",
        "\n",
        "from src import TverskyProjection\n",
        "\n",
        "from pytorch_forecasting import TimeSeriesDataSet, TemporalFusionTransformer\n",
        "from pytorch_forecasting.data.examples import get_stallion_data\n",
        "from pytorch_forecasting.data import GroupNormalizer\n",
        "from pytorch_forecasting.metrics.point import SMAPE, MASE\n",
        "\n",
        "pl.seed_everything(42)\n",
        "data = get_stallion_data()\n",
        "data[\"time_idx\"] = data[\"date\"].dt.year * 12 + data[\"date\"].dt.month\n",
        "data[\"time_idx\"] -= data[\"time_idx\"].min()\n",
        "\n",
        "data[\"month\"] = data.date.dt.month.astype(str).astype(\n",
        "    \"category\"\n",
        ")\n",
        "data[\"log_volume\"] = np.log(data.volume + 1e-8)\n",
        "data[\"avg_volume_by_sku\"] = data.groupby(\n",
        "    [\"time_idx\", \"sku\"], observed=True\n",
        ").volume.transform(\"mean\")\n",
        "data[\"avg_volume_by_agency\"] = data.groupby(\n",
        "    [\"time_idx\", \"agency\"], observed=True\n",
        ").volume.transform(\"mean\")\n",
        "\n",
        "\n",
        "special_days = [\n",
        "    \"easter_day\",\n",
        "    \"good_friday\",\n",
        "    \"new_year\",\n",
        "    \"christmas\",\n",
        "    \"labor_day\",\n",
        "    \"independence_day\",\n",
        "    \"revolution_day_memorial\",\n",
        "    \"regional_games\",\n",
        "    \"fifa_u_17_world_cup\",\n",
        "    \"football_gold_cup\",\n",
        "    \"beer_capital\",\n",
        "    \"music_fest\",\n",
        "]\n",
        "data[special_days] = (\n",
        "    data[special_days].apply(lambda x: x.map({0: \"-\", 1: x.name})).astype(\"category\")\n",
        ")\n",
        "data.sample(10, random_state=521)\n",
        "\n",
        "max_encoder_length = 60\n",
        "max_prediction_length = 20\n",
        "training_cutoff = data[\"time_idx\"].max() - max_prediction_length\n",
        "\n",
        "\n",
        "max_prediction_length = 6\n",
        "max_encoder_length = 24\n",
        "training_cutoff = data[\"time_idx\"].max() - max_prediction_length\n",
        "\n",
        "training = TimeSeriesDataSet(\n",
        "    data[lambda x: x.time_idx <= training_cutoff],\n",
        "    time_idx=\"time_idx\",\n",
        "    target=\"volume\",\n",
        "    group_ids=[\"agency\", \"sku\"],\n",
        "    min_encoder_length=max_encoder_length\n",
        "    // 2,\n",
        "    max_encoder_length=max_encoder_length,\n",
        "    min_prediction_length=1,\n",
        "    max_prediction_length=max_prediction_length,\n",
        "    static_categoricals=[\"agency\", \"sku\"],\n",
        "    static_reals=[\"avg_population_2017\", \"avg_yearly_household_income_2017\"],\n",
        "    time_varying_known_categoricals=[\"special_days\", \"month\"],\n",
        "    variable_groups={\n",
        "        \"special_days\": special_days\n",
        "    },\n",
        "    time_varying_known_reals=[\"time_idx\", \"price_regular\", \"discount_in_percent\"],\n",
        "    time_varying_unknown_categoricals=[],\n",
        "    time_varying_unknown_reals=[\n",
        "        \"volume\",\n",
        "        \"log_volume\",\n",
        "        \"industry_volume\",\n",
        "        \"soda_volume\",\n",
        "        \"avg_max_temp\",\n",
        "        \"avg_volume_by_agency\",\n",
        "        \"avg_volume_by_sku\",\n",
        "    ],\n",
        "    target_normalizer=GroupNormalizer(\n",
        "        groups=[\"agency\", \"sku\"], transformation=\"softplus\"\n",
        "    ),\n",
        "    add_relative_time_idx=True,\n",
        "    add_target_scales=True,\n",
        "    add_encoder_length=True,\n",
        ")\n",
        "\n",
        "\n",
        "validation = TimeSeriesDataSet.from_dataset(\n",
        "    training, data, predict=True, stop_randomization=True\n",
        ")\n",
        "\n",
        "batch_size = 128\n",
        "train_dataloader = training.to_dataloader(\n",
        "    train=True, batch_size=batch_size, num_workers=0\n",
        ")\n",
        "val_dataloader = validation.to_dataloader(\n",
        "    train=False, batch_size=batch_size * 10, num_workers=0\n",
        ")\n",
        "\n"
      ]
    },
    {
      "cell_type": "code",
      "execution_count": 2,
      "metadata": {
        "id": "sU7q44LBTV6F"
      },
      "outputs": [],
      "source": [
        "class TFTWithTversky(TemporalFusionTransformer):\n",
        "    \"\"\"Fixed TFT with Tversky that addresses exploding gradients\"\"\"\n",
        "\n",
        "    def __init__(self, tversky_num_features: int = 5, output_scale: float = 0.01,\n",
        "                 gradient_clip: float = 1.0, *args, **kwargs):\n",
        "\n",
        "        super().__init__(*args, **kwargs)\n",
        "\n",
        "        self.tversky_num_features = tversky_num_features\n",
        "        self.output_scale = output_scale\n",
        "        self.gradient_clip = gradient_clip\n",
        "\n",
        "        original_output = self.output_layer\n",
        "        if hasattr(original_output, 'in_features'):\n",
        "            input_dim = original_output.in_features\n",
        "            output_dim = original_output.out_features\n",
        "        else:\n",
        "            input_dim = self.hparams.hidden_size\n",
        "            output_dim = 1\n",
        "\n",
        "        self.output_layer = TverskyProjection(\n",
        "            input_dim=input_dim,\n",
        "            output_dim=output_dim,\n",
        "            num_features=tversky_num_features,\n",
        "            output_scale=output_scale,\n",
        "            gradient_clip=gradient_clip\n",
        "        )\n",
        "\n"
      ]
    },
    {
      "cell_type": "code",
      "execution_count": 3,
      "metadata": {
        "id": "Qy0tsVsJI6iG"
      },
      "outputs": [],
      "source": [
        "def train_and_evaluate_model(model, model_name, train_dl, val_dl, max_epochs=50):\n",
        "    \"\"\"Train a model and return evaluation metrics\"\"\"\n",
        "    print(f\"\\n{'='*50}\")\n",
        "    print(f\"Training {model_name}\")\n",
        "    print(f\"{'='*50}\")\n",
        "\n",
        "    early_stop_callback = EarlyStopping(\n",
        "        monitor=\"val_loss\",\n",
        "        min_delta=1e-4,\n",
        "        patience=10,\n",
        "        verbose=False,\n",
        "        mode=\"min\"\n",
        "    )\n",
        "\n",
        "    lr_logger = LearningRateMonitor(logging_interval=\"step\")\n",
        "    logger = TensorBoardLogger(f\"tb_logs\", name=model_name)\n",
        "\n",
        "    trainer = pl.Trainer(\n",
        "        max_epochs=max_epochs,\n",
        "        callbacks=[early_stop_callback, lr_logger],\n",
        "        logger=logger,\n",
        "        enable_progress_bar=True,\n",
        "        log_every_n_steps=50,\n",
        "    )\n",
        "\n",
        "    # Train the model\n",
        "    start_time = time.time()\n",
        "    trainer.fit(model, train_dataloaders=train_dl, val_dataloaders=val_dl)\n",
        "    training_time = time.time() - start_time\n",
        "\n",
        "    val_metrics = trainer.callback_metrics\n",
        "\n",
        "    print(f\"Making predictions for {model_name}...\")\n",
        "    predictions = model.predict(val_dl, return_y=True)\n",
        "\n",
        "    y_true = predictions.y[0].cpu().numpy().flatten()\n",
        "    y_pred = predictions.output.cpu().numpy().flatten()\n",
        "\n",
        "    mae = mean_absolute_error(y_true, y_pred)\n",
        "    rmse = np.sqrt(mean_squared_error(y_true, y_pred))\n",
        "    mape = np.mean(np.abs((y_true - y_pred) / (y_true + 1e-8))) * 100\n",
        "\n",
        "    return {\n",
        "        'model': model,\n",
        "        'model_name': model_name,\n",
        "        'training_time': training_time,\n",
        "        'val_loss': float(val_metrics.get('val_loss', float('inf'))),\n",
        "        'mae': mae,\n",
        "        'rmse': rmse,\n",
        "        'mape': mape,\n",
        "        'predictions': predictions,\n",
        "        'trainer': trainer\n",
        "    }"
      ]
    },
    {
      "cell_type": "code",
      "execution_count": 4,
      "metadata": {
        "id": "qyc9DL25J7nZ"
      },
      "outputs": [],
      "source": [
        "def compare_models_detailed(results1, results2):\n",
        "    \"\"\"Create detailed comparison between two models\"\"\"\n",
        "    print(f\"\\n{'='*70}\")\n",
        "    print(\"DETAILED MODEL COMPARISON\")\n",
        "    print(f\"{'='*70}\")\n",
        "\n",
        "    comparison_data = []\n",
        "\n",
        "    for metric in ['training_time', 'val_loss', 'mae', 'rmse', 'mape']:\n",
        "        val1 = results1[metric]\n",
        "        val2 = results2[metric]\n",
        "\n",
        "        if metric == 'training_time':\n",
        "            improvement = ((val1 - val2) / val1) * 100\n",
        "            better_model = results2['model_name'] if val2 < val1 else results1['model_name']\n",
        "            unit = 'seconds'\n",
        "        else:\n",
        "            improvement = ((val1 - val2) / val1) * 100\n",
        "            better_model = results2['model_name'] if val2 < val1 else results1['model_name']\n",
        "            unit = '%' if metric == 'mape' else ''\n",
        "\n",
        "        comparison_data.append({\n",
        "            'Metric': metric.upper(),\n",
        "            f'{results1[\"model_name\"]}': f\"{val1:.4f}{unit}\" if metric != 'training_time' else f\"{val1:.1f}{unit}\",\n",
        "            f'{results2[\"model_name\"]}': f\"{val2:.4f}{unit}\" if metric != 'training_time' else f\"{val2:.1f}{unit}\",\n",
        "            'Better Model': better_model,\n",
        "            'Improvement': f\"{abs(improvement):.2f}%\"\n",
        "        })\n",
        "\n",
        "    comparison_df = pd.DataFrame(comparison_data)\n",
        "    print(comparison_df.to_string(index=False))\n",
        "\n",
        "    return comparison_df\n",
        "\n",
        "def plot_prediction_comparison(results1, results2, n_samples=100):\n",
        "    \"\"\"Create visualization comparing predictions from both models\"\"\"\n",
        "    print(f\"\\nCreating prediction comparison plots...\")\n",
        "\n",
        "    y_true1 = results1['predictions'].y[0].cpu().numpy().flatten()[:n_samples]\n",
        "    y_pred1 = results1['predictions'].output.cpu().numpy().flatten()[:n_samples]\n",
        "\n",
        "    y_true2 = results2['predictions'].y[0].cpu().numpy().flatten()[:n_samples]\n",
        "    y_pred2 = results2['predictions'].output.cpu().numpy().flatten()[:n_samples]\n",
        "\n",
        "    fig, axes = plt.subplots(2, 2, figsize=(15, 12))\n",
        "\n",
        "    axes[0, 0].scatter(y_true1, y_pred1, alpha=0.6, color='blue', label=results1['model_name'])\n",
        "    axes[0, 0].plot([y_true1.min(), y_true1.max()], [y_true1.min(), y_true1.max()], 'r--', lw=2)\n",
        "    axes[0, 0].set_xlabel('True Values')\n",
        "    axes[0, 0].set_ylabel('Predicted Values')\n",
        "    axes[0, 0].set_title(f'{results1[\"model_name\"]} - Predictions vs True Values')\n",
        "    axes[0, 0].legend()\n",
        "\n",
        "    axes[0, 1].scatter(y_true2, y_pred2, alpha=0.6, color='green', label=results2['model_name'])\n",
        "    axes[0, 1].plot([y_true2.min(), y_true2.max()], [y_true2.min(), y_true2.max()], 'r--', lw=2)\n",
        "    axes[0, 1].set_xlabel('True Values')\n",
        "    axes[0, 1].set_ylabel('Predicted Values')\n",
        "    axes[0, 1].set_title(f'{results2[\"model_name\"]} - Predictions vs True Values')\n",
        "    axes[0, 1].legend()\n",
        "\n",
        "    sample_indices = range(min(50, len(y_true1)))\n",
        "    axes[1, 0].plot(sample_indices, y_true1[:50], label='True', color='black', linewidth=2)\n",
        "    axes[1, 0].plot(sample_indices, y_pred1[:50], label=results1['model_name'], color='blue', linestyle='--')\n",
        "    axes[1, 0].plot(sample_indices, y_pred2[:50], label=results2['model_name'], color='green', linestyle=':')\n",
        "    axes[1, 0].set_xlabel('Time Steps')\n",
        "    axes[1, 0].set_ylabel('Values')\n",
        "    axes[1, 0].set_title('Prediction Comparison - Time Series View')\n",
        "    axes[1, 0].legend()\n",
        "\n",
        "    residuals1 = y_true1 - y_pred1\n",
        "    residuals2 = y_true2 - y_pred2\n",
        "\n",
        "    axes[1, 1].hist(residuals1, bins=30, alpha=0.6, label=f'{results1[\"model_name\"]} Residuals', color='blue')\n",
        "    axes[1, 1].hist(residuals2, bins=30, alpha=0.6, label=f'{results2[\"model_name\"]} Residuals', color='green')\n",
        "    axes[1, 1].set_xlabel('Residuals')\n",
        "    axes[1, 1].set_ylabel('Frequency')\n",
        "    axes[1, 1].set_title('Residuals Distribution Comparison')\n",
        "    axes[1, 1].legend()\n",
        "\n",
        "    plt.tight_layout()\n",
        "    plt.show()\n",
        "\n",
        "    return fig"
      ]
    },
    {
      "cell_type": "code",
      "execution_count": 5,
      "metadata": {
        "colab": {
          "base_uri": "https://localhost:8080/",
          "height": 1000,
          "referenced_widgets": [
            "45d40d3679ec47e78b895286ff171cd7",
            "cd0cdce2eb3e4d83a87f1297f3c3a6ed",
            "b46c9ceb0806499ba1f00368277521ef",
            "506205288446430a8f8f18821b3c292e",
            "fe223afff19b44fb82e43c2025bbb015",
            "7b6f6692fda9456abe23db51659ca891",
            "6b38840e80bb4beea459dea8b14b414d",
            "86711ab3c989494987dd7f84510c1c1f",
            "b073882bb2564ae8a76dc48b0e3354d8",
            "595e267026d44fe994f9eaa3c42451ca",
            "720273cb168f4388b5bc2136e29eb01a",
            "12c577d0bf324f279a936250a8360683",
            "0759f24accac4afa9663b650cd9bb205",
            "dedfa60487644435aa57ce4fd41a5800",
            "83a22224efa9437aafb3a07575f75630",
            "51d569aaa030409281d3d4344e6a2612",
            "474d1ebff9be4795a52c1bd9c5595db2",
            "c8f6e3bf2567411bb89b6d2df8a05d7d",
            "deff10b9bf4a4dba82d25282b16fa75a",
            "ed0681071c5048db9d169d23dad10a51",
            "fb4088dcfcb04a7c87a2bc01a502e991",
            "86047851aa5a439b90556986fb565b3b",
            "648cd1ba64464b63b196ddb565d25475",
            "e9f2ea15b8264119a46bef4bfd5e17c3",
            "eb3e5c26ccc5437d9e1237d9ea5940c0",
            "0b788024e02747b281d1b11385051c65",
            "c77175d4195d44c3b914274f61d11f02",
            "9acda330f5134a36a7064a0b8f6203b2",
            "1662d7dfffdf480c91331cb40775deae",
            "eee5c5bbf8fa4bb8a87de0599969b2ec",
            "148fbea0d45444b6b8eb7cb5179a21e8",
            "6280cf51dfcc4ed0b9eaf288bef6c128",
            "e94cd520d3294662b61e4a8a784fa566",
            "873723a254994d3eb8747127ba00d581",
            "8f2cce2df6d34f07af990f7eb2088a44",
            "e8111fc7ec9d42fba800ab8097292bd9",
            "fa80f40457914f268874749d407c5a03",
            "1aa2c475a52b457faf5bddb0ddf38bea",
            "52b3e93e7a2547f3ae0e32c2b6329c48",
            "49e8f760b86b4e84af586dd096da5888",
            "bb7458dae04d435c991e7499954f09a8",
            "cd7d9db1ccd6463ba25b607fec986d6b",
            "36c4e626c5894697bace6e49ac5c2df7",
            "be991c92c31442b5ba9c990e7587684f",
            "597ec3cd57f94e6eb914347af289bd04",
            "118d1b8a2dd745198379b850527f8f95",
            "8c7e67470ff248569d2bb3ed3dd49731",
            "b9455a29f2ea42419fb94f9940d43d3c",
            "f45466662dc04ea68bf366b0c80dabde",
            "2723b0698fbf4947bbf8bcbfa171e201",
            "30b5d54054994b908c48ce6dfe0f33c6",
            "3d3e5b45e5084d0dad86dcfdd136d3de",
            "e14cf44101dd4130bb9c095cda45db02",
            "f36ffc7a8999490cb676f32b89d4ae4a",
            "2c90937660944253ae3182a9ec7a4494",
            "42ae65d8dbed44ba83670a827fc9feb1",
            "54a16ae72f9e4fe8bca53553b5e85955",
            "c823f436795d4d119b0d976cf1d44c0c",
            "4fe9ee07031443afa7a8ea67e9f631fa",
            "71120353f51a40bbbf6910dc97d27eff",
            "929d780088e6471a8c1fcce9d3359bbe",
            "dd17d78af75e48fb8ee40c1e34c58db5",
            "6673cb3c6c85463e849d7dfaeac518e4",
            "5d8a83408c324a13b731c3332a336ed6",
            "6fd6ef0a12984bcf96865c9978e44d83",
            "eb486b127e9d4703b371064f1bbb4a39",
            "76d5de7e61154207af2b026acb21ee06",
            "90af8c1a6ec14c2e95f009d9254dbbef",
            "638bef900e184286b3931c48044e15ea",
            "4a05d7e814a944e29def1f7263d554cf",
            "c076f097638440f7a470b7203684ceee",
            "5e81b35edda64cc9902a84d8979c47ef",
            "7bf2a7c8c25b4d488a8b99b3ae4359a3",
            "5af5d54a74a74c7091e3842c7a6eef32",
            "2787c162e190440e9e51615de89e66d3",
            "f506950836d64a13b695cb1cb3406bac",
            "b460186c64b44f6cb1969175b9dbc01f",
            "4dd4bd656ceb4258a618cdce0cce7634",
            "2fe91966e20c4763b3b0dde843210c16",
            "f7bbc36d0d1842a9a95d2183774c87db",
            "cf2990e72ddd4e71bad3f06ce963794f",
            "e03ec1d53ad14a5e91f327b6813f95a1",
            "54f95fc56ec84878a41e8d6ea69aa195",
            "7ef0528f78f54422b55d306f76704939",
            "aabb0b3beb1545b392d48b5a080e910c",
            "e3e722f66147497a83da1d3d8aab5e39",
            "7b5d04888066415c9a6b4825da2bf47f",
            "1d33f7fe74af4a74a72e081fc0658a7b",
            "00a471bc8b6248e69097325fa9d8fe9b",
            "a3990e6a0c3d42b28437df035fa490a3",
            "deb1e7028f0b4bc89660ed6b7f5752f8",
            "0ab0dcedf1ef41d89893a5ad5c55c880",
            "a18e20d97ca549a1b442eed8da750cee",
            "f6668edea129482bba401a1973cc2103",
            "3a0572abc83a4c3caa4b540c41982749",
            "9363b80aa2344066a0c5ca3ef7a79748",
            "94e1496c8da3427dae6be3e1b01c77cf",
            "b4a4b675a2924386a2ee3ca5b66a11c4",
            "14e2b20e924147b6b666979f7adde9fe",
            "53197cfd6a924aa8bb0bd38dfb8e5644",
            "37654ebeced545a39d9d846186da67c0",
            "f82d9654fb474774b04be923b36afdc8",
            "2882e0ffc88044f993d18cd46fd63453",
            "9615598998054e988f433b09ea0d1566",
            "9ed76c56f5144b93a59f77aca372508d",
            "4b08520fc1234d0cbe774e13db79de4e",
            "c93d46f93dd04e2abf71aabbe7de249e",
            "180cd887d95b44e7b987ef384564bca0",
            "2ac3fdb0749e48f38fb1514796dfd916",
            "961c31f152c04c5a8b81c8daf9a4e7ee",
            "f3159bc1890040b4893dbd29aae7bce4",
            "ddee5840dada4bb286c34d8c6702cae7",
            "9dfd53ec92584e2fa15da79fa8bbdf8b",
            "705d045a5520470b93f3ae5dfead8e1c",
            "6aa8faf1fcfa48fe8054aa20cb52ca10",
            "54a018b4c50440fd86c314a3287f2756",
            "1cfcc150745941d7bc1ed656368e34e8",
            "69311cf2a3264391812ac15f6d9ae0ba",
            "0d2f96b4968c4ef08f36115ef69ab777",
            "af1479e8bc7b4dc29c6af2e098292631",
            "fcc63a2694d74cafaa43a6b20318c522",
            "3d7d258b6e5e409587cc0cf8bc68b87e",
            "97a57e90274b4f10abc532af903ae81b",
            "45807cf19c964dbc9b954399f46a16bd",
            "7d1b51f0f794495198b6dc878ecfcb93",
            "15f8c6c8a986414d955272c8d2efd3f8",
            "9f54a5015a0047cf9a28474c4301d05a",
            "04cc2c24e97d416a9155bc33d06aa773",
            "baf673bbb6e74e1785d8ee241c0862d6",
            "5e3a76f2c58346849381a7f3bbf4449f",
            "edd77eae79ce4e2f963515e475aba452",
            "6f095c00c5d64155b4821ada49985cfa",
            "61bf59c88ce44e7b8dd16e6dadcbd5dc",
            "11f01205f2b6461ea9e2ce01226a1299",
            "53c8b70cc3d84fe1af11afeb8badacc5",
            "17d58740acfb451eaae5757b0e93b536",
            "73fdd54d7a9349f7954558e3a94833ea",
            "68df753dd4bb403fa4f08abb2f53879b",
            "d39a2281bbac43e8860fd89178ab278c",
            "16bab8ce2399421ea821a70194b1cc74",
            "a7c383f959374be88daad2745347a958",
            "d02f2873cffa4096beb26b28bc0a6fe8",
            "8020527d2ea24161bb0b45cfc21400c0",
            "277bddb8e4ae4ff38ba8b8b76b97a871",
            "e8db09c6aabb4f479347651262e995c5",
            "271f9e3f37de40eabf629cd891014055",
            "802bccc1ee584867909962069f9efe56",
            "3cd41832142d4499804c694633427c87",
            "25fa6a3a431b4e028525aa385e0a470a",
            "274589e2df834c43bd4c8b0150e4f39e",
            "1522c08cf24c40f0bfd2146cf9ba4c31",
            "736d9075986b4325b7ae9cf4c454af7d",
            "78ba963bcf2f424ebf38b8b174f8bf79",
            "26860b87788542a2a5f6b486ac4585a2"
          ]
        },
        "id": "lw4ieH9ZrnCK",
        "outputId": "ae2b588c-7445-4e07-b58e-128074c52101"
      },
      "outputs": [
        {
          "name": "stdout",
          "output_type": "stream",
          "text": [
            "Starting model comparison experiment...\n",
            "\n",
            "Initializing models...\n"
          ]
        },
        {
          "name": "stderr",
          "output_type": "stream",
          "text": [
            "/usr/local/lib/python3.11/dist-packages/lightning/pytorch/utilities/parsing.py:210: Attribute 'loss' is an instance of `nn.Module` and is already saved during checkpointing. It is recommended to ignore them using `self.save_hyperparameters(ignore=['loss'])`.\n",
            "/usr/local/lib/python3.11/dist-packages/lightning/pytorch/utilities/parsing.py:210: Attribute 'logging_metrics' is an instance of `nn.Module` and is already saved during checkpointing. It is recommended to ignore them using `self.save_hyperparameters(ignore=['logging_metrics'])`.\n",
            "INFO: 💡 Tip: For seamless cloud uploads and versioning, try installing [litmodels](https://pypi.org/project/litmodels/) to enable LitModelCheckpoint, which syncs automatically with the Lightning model registry.\n",
            "INFO:lightning.pytorch.utilities.rank_zero:💡 Tip: For seamless cloud uploads and versioning, try installing [litmodels](https://pypi.org/project/litmodels/) to enable LitModelCheckpoint, which syncs automatically with the Lightning model registry.\n",
            "INFO: GPU available: True (cuda), used: True\n",
            "INFO:lightning.pytorch.utilities.rank_zero:GPU available: True (cuda), used: True\n",
            "INFO: TPU available: False, using: 0 TPU cores\n",
            "INFO:lightning.pytorch.utilities.rank_zero:TPU available: False, using: 0 TPU cores\n",
            "INFO: HPU available: False, using: 0 HPUs\n",
            "INFO:lightning.pytorch.utilities.rank_zero:HPU available: False, using: 0 HPUs\n"
          ]
        },
        {
          "name": "stdout",
          "output_type": "stream",
          "text": [
            "Standard TFT parameters: 246,339\n",
            "TFT+Tversky parameters: 250,439\n",
            "\n",
            "==================================================\n",
            "Training Standard_TFT\n",
            "==================================================\n"
          ]
        },
        {
          "name": "stderr",
          "output_type": "stream",
          "text": [
            "INFO: LOCAL_RANK: 0 - CUDA_VISIBLE_DEVICES: [0]\n",
            "INFO:lightning.pytorch.accelerators.cuda:LOCAL_RANK: 0 - CUDA_VISIBLE_DEVICES: [0]\n",
            "INFO: \n",
            "   | Name                               | Type                            | Params | Mode \n",
            "------------------------------------------------------------------------------------------------\n",
            "0  | loss                               | SMAPE                           | 0      | train\n",
            "1  | logging_metrics                    | ModuleList                      | 0      | train\n",
            "2  | input_embeddings                   | MultiEmbedding                  | 1.3 K  | train\n",
            "3  | prescalers                         | ModuleDict                      | 256    | train\n",
            "4  | static_variable_selection          | VariableSelectionNetwork        | 9.2 K  | train\n",
            "5  | encoder_variable_selection         | VariableSelectionNetwork        | 21.1 K | train\n",
            "6  | decoder_variable_selection         | VariableSelectionNetwork        | 7.7 K  | train\n",
            "7  | static_context_variable_selection  | GatedResidualNetwork            | 16.8 K | train\n",
            "8  | static_context_initial_hidden_lstm | GatedResidualNetwork            | 16.8 K | train\n",
            "9  | static_context_initial_cell_lstm   | GatedResidualNetwork            | 16.8 K | train\n",
            "10 | static_context_enrichment          | GatedResidualNetwork            | 16.8 K | train\n",
            "11 | lstm_encoder                       | LSTM                            | 33.3 K | train\n",
            "12 | lstm_decoder                       | LSTM                            | 33.3 K | train\n",
            "13 | post_lstm_gate_encoder             | GatedLinearUnit                 | 8.3 K  | train\n",
            "14 | post_lstm_add_norm_encoder         | AddNorm                         | 128    | train\n",
            "15 | static_enrichment                  | GatedResidualNetwork            | 20.9 K | train\n",
            "16 | multihead_attn                     | InterpretableMultiHeadAttention | 10.4 K | train\n",
            "17 | post_attn_gate_norm                | GateAddNorm                     | 8.4 K  | train\n",
            "18 | pos_wise_ff                        | GatedResidualNetwork            | 16.8 K | train\n",
            "19 | pre_output_gate_norm               | GateAddNorm                     | 8.4 K  | train\n",
            "20 | output_layer                       | Linear                          | 65     | train\n",
            "------------------------------------------------------------------------------------------------\n",
            "246 K     Trainable params\n",
            "0         Non-trainable params\n",
            "246 K     Total params\n",
            "0.985     Total estimated model params size (MB)\n",
            "485       Modules in train mode\n",
            "0         Modules in eval mode\n",
            "INFO:lightning.pytorch.callbacks.model_summary:\n",
            "   | Name                               | Type                            | Params | Mode \n",
            "------------------------------------------------------------------------------------------------\n",
            "0  | loss                               | SMAPE                           | 0      | train\n",
            "1  | logging_metrics                    | ModuleList                      | 0      | train\n",
            "2  | input_embeddings                   | MultiEmbedding                  | 1.3 K  | train\n",
            "3  | prescalers                         | ModuleDict                      | 256    | train\n",
            "4  | static_variable_selection          | VariableSelectionNetwork        | 9.2 K  | train\n",
            "5  | encoder_variable_selection         | VariableSelectionNetwork        | 21.1 K | train\n",
            "6  | decoder_variable_selection         | VariableSelectionNetwork        | 7.7 K  | train\n",
            "7  | static_context_variable_selection  | GatedResidualNetwork            | 16.8 K | train\n",
            "8  | static_context_initial_hidden_lstm | GatedResidualNetwork            | 16.8 K | train\n",
            "9  | static_context_initial_cell_lstm   | GatedResidualNetwork            | 16.8 K | train\n",
            "10 | static_context_enrichment          | GatedResidualNetwork            | 16.8 K | train\n",
            "11 | lstm_encoder                       | LSTM                            | 33.3 K | train\n",
            "12 | lstm_decoder                       | LSTM                            | 33.3 K | train\n",
            "13 | post_lstm_gate_encoder             | GatedLinearUnit                 | 8.3 K  | train\n",
            "14 | post_lstm_add_norm_encoder         | AddNorm                         | 128    | train\n",
            "15 | static_enrichment                  | GatedResidualNetwork            | 20.9 K | train\n",
            "16 | multihead_attn                     | InterpretableMultiHeadAttention | 10.4 K | train\n",
            "17 | post_attn_gate_norm                | GateAddNorm                     | 8.4 K  | train\n",
            "18 | pos_wise_ff                        | GatedResidualNetwork            | 16.8 K | train\n",
            "19 | pre_output_gate_norm               | GateAddNorm                     | 8.4 K  | train\n",
            "20 | output_layer                       | Linear                          | 65     | train\n",
            "------------------------------------------------------------------------------------------------\n",
            "246 K     Trainable params\n",
            "0         Non-trainable params\n",
            "246 K     Total params\n",
            "0.985     Total estimated model params size (MB)\n",
            "485       Modules in train mode\n",
            "0         Modules in eval mode\n"
          ]
        },
        {
          "data": {
            "application/vnd.jupyter.widget-view+json": {
              "model_id": "45d40d3679ec47e78b895286ff171cd7",
              "version_major": 2,
              "version_minor": 0
            },
            "text/plain": [
              "Sanity Checking: |          | 0/? [00:00<?, ?it/s]"
            ]
          },
          "metadata": {},
          "output_type": "display_data"
        },
        {
          "data": {
            "application/vnd.jupyter.widget-view+json": {
              "model_id": "12c577d0bf324f279a936250a8360683",
              "version_major": 2,
              "version_minor": 0
            },
            "text/plain": [
              "Training: |          | 0/? [00:00<?, ?it/s]"
            ]
          },
          "metadata": {},
          "output_type": "display_data"
        },
        {
          "data": {
            "application/vnd.jupyter.widget-view+json": {
              "model_id": "648cd1ba64464b63b196ddb565d25475",
              "version_major": 2,
              "version_minor": 0
            },
            "text/plain": [
              "Validation: |          | 0/? [00:00<?, ?it/s]"
            ]
          },
          "metadata": {},
          "output_type": "display_data"
        },
        {
          "data": {
            "application/vnd.jupyter.widget-view+json": {
              "model_id": "873723a254994d3eb8747127ba00d581",
              "version_major": 2,
              "version_minor": 0
            },
            "text/plain": [
              "Validation: |          | 0/? [00:00<?, ?it/s]"
            ]
          },
          "metadata": {},
          "output_type": "display_data"
        },
        {
          "data": {
            "application/vnd.jupyter.widget-view+json": {
              "model_id": "597ec3cd57f94e6eb914347af289bd04",
              "version_major": 2,
              "version_minor": 0
            },
            "text/plain": [
              "Validation: |          | 0/? [00:00<?, ?it/s]"
            ]
          },
          "metadata": {},
          "output_type": "display_data"
        },
        {
          "data": {
            "application/vnd.jupyter.widget-view+json": {
              "model_id": "42ae65d8dbed44ba83670a827fc9feb1",
              "version_major": 2,
              "version_minor": 0
            },
            "text/plain": [
              "Validation: |          | 0/? [00:00<?, ?it/s]"
            ]
          },
          "metadata": {},
          "output_type": "display_data"
        },
        {
          "data": {
            "application/vnd.jupyter.widget-view+json": {
              "model_id": "76d5de7e61154207af2b026acb21ee06",
              "version_major": 2,
              "version_minor": 0
            },
            "text/plain": [
              "Validation: |          | 0/? [00:00<?, ?it/s]"
            ]
          },
          "metadata": {},
          "output_type": "display_data"
        },
        {
          "name": "stderr",
          "output_type": "stream",
          "text": [
            "INFO: `Trainer.fit` stopped: `max_epochs=5` reached.\n",
            "INFO:lightning.pytorch.utilities.rank_zero:`Trainer.fit` stopped: `max_epochs=5` reached.\n",
            "INFO: 💡 Tip: For seamless cloud uploads and versioning, try installing [litmodels](https://pypi.org/project/litmodels/) to enable LitModelCheckpoint, which syncs automatically with the Lightning model registry.\n",
            "INFO:lightning.pytorch.utilities.rank_zero:💡 Tip: For seamless cloud uploads and versioning, try installing [litmodels](https://pypi.org/project/litmodels/) to enable LitModelCheckpoint, which syncs automatically with the Lightning model registry.\n",
            "INFO: GPU available: True (cuda), used: True\n",
            "INFO:lightning.pytorch.utilities.rank_zero:GPU available: True (cuda), used: True\n",
            "INFO: TPU available: False, using: 0 TPU cores\n",
            "INFO:lightning.pytorch.utilities.rank_zero:TPU available: False, using: 0 TPU cores\n",
            "INFO: HPU available: False, using: 0 HPUs\n",
            "INFO:lightning.pytorch.utilities.rank_zero:HPU available: False, using: 0 HPUs\n",
            "INFO: LOCAL_RANK: 0 - CUDA_VISIBLE_DEVICES: [0]\n",
            "INFO:lightning.pytorch.accelerators.cuda:LOCAL_RANK: 0 - CUDA_VISIBLE_DEVICES: [0]\n"
          ]
        },
        {
          "name": "stdout",
          "output_type": "stream",
          "text": [
            "Making predictions for Standard_TFT...\n"
          ]
        },
        {
          "name": "stderr",
          "output_type": "stream",
          "text": [
            "INFO: 💡 Tip: For seamless cloud uploads and versioning, try installing [litmodels](https://pypi.org/project/litmodels/) to enable LitModelCheckpoint, which syncs automatically with the Lightning model registry.\n",
            "INFO:lightning.pytorch.utilities.rank_zero:💡 Tip: For seamless cloud uploads and versioning, try installing [litmodels](https://pypi.org/project/litmodels/) to enable LitModelCheckpoint, which syncs automatically with the Lightning model registry.\n",
            "INFO: GPU available: True (cuda), used: True\n",
            "INFO:lightning.pytorch.utilities.rank_zero:GPU available: True (cuda), used: True\n",
            "INFO: TPU available: False, using: 0 TPU cores\n",
            "INFO:lightning.pytorch.utilities.rank_zero:TPU available: False, using: 0 TPU cores\n",
            "INFO: HPU available: False, using: 0 HPUs\n",
            "INFO:lightning.pytorch.utilities.rank_zero:HPU available: False, using: 0 HPUs\n",
            "INFO: LOCAL_RANK: 0 - CUDA_VISIBLE_DEVICES: [0]\n",
            "INFO:lightning.pytorch.accelerators.cuda:LOCAL_RANK: 0 - CUDA_VISIBLE_DEVICES: [0]\n",
            "INFO: \n",
            "   | Name                               | Type                            | Params | Mode \n",
            "------------------------------------------------------------------------------------------------\n",
            "0  | loss                               | SMAPE                           | 0      | train\n",
            "1  | logging_metrics                    | ModuleList                      | 0      | train\n",
            "2  | input_embeddings                   | MultiEmbedding                  | 1.3 K  | train\n",
            "3  | prescalers                         | ModuleDict                      | 256    | train\n",
            "4  | static_variable_selection          | VariableSelectionNetwork        | 9.2 K  | train\n",
            "5  | encoder_variable_selection         | VariableSelectionNetwork        | 21.1 K | train\n",
            "6  | decoder_variable_selection         | VariableSelectionNetwork        | 7.7 K  | train\n",
            "7  | static_context_variable_selection  | GatedResidualNetwork            | 16.8 K | train\n",
            "8  | static_context_initial_hidden_lstm | GatedResidualNetwork            | 16.8 K | train\n",
            "9  | static_context_initial_cell_lstm   | GatedResidualNetwork            | 16.8 K | train\n",
            "10 | static_context_enrichment          | GatedResidualNetwork            | 16.8 K | train\n",
            "11 | lstm_encoder                       | LSTM                            | 33.3 K | train\n",
            "12 | lstm_decoder                       | LSTM                            | 33.3 K | train\n",
            "13 | post_lstm_gate_encoder             | GatedLinearUnit                 | 8.3 K  | train\n",
            "14 | post_lstm_add_norm_encoder         | AddNorm                         | 128    | train\n",
            "15 | static_enrichment                  | GatedResidualNetwork            | 20.9 K | train\n",
            "16 | multihead_attn                     | InterpretableMultiHeadAttention | 10.4 K | train\n",
            "17 | post_attn_gate_norm                | GateAddNorm                     | 8.4 K  | train\n",
            "18 | pos_wise_ff                        | GatedResidualNetwork            | 16.8 K | train\n",
            "19 | pre_output_gate_norm               | GateAddNorm                     | 8.4 K  | train\n",
            "20 | output_layer                       | TverskyProjection               | 4.2 K  | train\n",
            "------------------------------------------------------------------------------------------------\n",
            "250 K     Trainable params\n",
            "0         Non-trainable params\n",
            "250 K     Total params\n",
            "1.002     Total estimated model params size (MB)\n",
            "489       Modules in train mode\n",
            "0         Modules in eval mode\n",
            "INFO:lightning.pytorch.callbacks.model_summary:\n",
            "   | Name                               | Type                            | Params | Mode \n",
            "------------------------------------------------------------------------------------------------\n",
            "0  | loss                               | SMAPE                           | 0      | train\n",
            "1  | logging_metrics                    | ModuleList                      | 0      | train\n",
            "2  | input_embeddings                   | MultiEmbedding                  | 1.3 K  | train\n",
            "3  | prescalers                         | ModuleDict                      | 256    | train\n",
            "4  | static_variable_selection          | VariableSelectionNetwork        | 9.2 K  | train\n",
            "5  | encoder_variable_selection         | VariableSelectionNetwork        | 21.1 K | train\n",
            "6  | decoder_variable_selection         | VariableSelectionNetwork        | 7.7 K  | train\n",
            "7  | static_context_variable_selection  | GatedResidualNetwork            | 16.8 K | train\n",
            "8  | static_context_initial_hidden_lstm | GatedResidualNetwork            | 16.8 K | train\n",
            "9  | static_context_initial_cell_lstm   | GatedResidualNetwork            | 16.8 K | train\n",
            "10 | static_context_enrichment          | GatedResidualNetwork            | 16.8 K | train\n",
            "11 | lstm_encoder                       | LSTM                            | 33.3 K | train\n",
            "12 | lstm_decoder                       | LSTM                            | 33.3 K | train\n",
            "13 | post_lstm_gate_encoder             | GatedLinearUnit                 | 8.3 K  | train\n",
            "14 | post_lstm_add_norm_encoder         | AddNorm                         | 128    | train\n",
            "15 | static_enrichment                  | GatedResidualNetwork            | 20.9 K | train\n",
            "16 | multihead_attn                     | InterpretableMultiHeadAttention | 10.4 K | train\n",
            "17 | post_attn_gate_norm                | GateAddNorm                     | 8.4 K  | train\n",
            "18 | pos_wise_ff                        | GatedResidualNetwork            | 16.8 K | train\n",
            "19 | pre_output_gate_norm               | GateAddNorm                     | 8.4 K  | train\n",
            "20 | output_layer                       | TverskyProjection               | 4.2 K  | train\n",
            "------------------------------------------------------------------------------------------------\n",
            "250 K     Trainable params\n",
            "0         Non-trainable params\n",
            "250 K     Total params\n",
            "1.002     Total estimated model params size (MB)\n",
            "489       Modules in train mode\n",
            "0         Modules in eval mode\n"
          ]
        },
        {
          "name": "stdout",
          "output_type": "stream",
          "text": [
            "\n",
            "==================================================\n",
            "Training TFT_with_Tversky\n",
            "==================================================\n"
          ]
        },
        {
          "data": {
            "application/vnd.jupyter.widget-view+json": {
              "model_id": "4dd4bd656ceb4258a618cdce0cce7634",
              "version_major": 2,
              "version_minor": 0
            },
            "text/plain": [
              "Sanity Checking: |          | 0/? [00:00<?, ?it/s]"
            ]
          },
          "metadata": {},
          "output_type": "display_data"
        },
        {
          "data": {
            "application/vnd.jupyter.widget-view+json": {
              "model_id": "00a471bc8b6248e69097325fa9d8fe9b",
              "version_major": 2,
              "version_minor": 0
            },
            "text/plain": [
              "Training: |          | 0/? [00:00<?, ?it/s]"
            ]
          },
          "metadata": {},
          "output_type": "display_data"
        },
        {
          "data": {
            "application/vnd.jupyter.widget-view+json": {
              "model_id": "53197cfd6a924aa8bb0bd38dfb8e5644",
              "version_major": 2,
              "version_minor": 0
            },
            "text/plain": [
              "Validation: |          | 0/? [00:00<?, ?it/s]"
            ]
          },
          "metadata": {},
          "output_type": "display_data"
        },
        {
          "data": {
            "application/vnd.jupyter.widget-view+json": {
              "model_id": "f3159bc1890040b4893dbd29aae7bce4",
              "version_major": 2,
              "version_minor": 0
            },
            "text/plain": [
              "Validation: |          | 0/? [00:00<?, ?it/s]"
            ]
          },
          "metadata": {},
          "output_type": "display_data"
        },
        {
          "data": {
            "application/vnd.jupyter.widget-view+json": {
              "model_id": "3d7d258b6e5e409587cc0cf8bc68b87e",
              "version_major": 2,
              "version_minor": 0
            },
            "text/plain": [
              "Validation: |          | 0/? [00:00<?, ?it/s]"
            ]
          },
          "metadata": {},
          "output_type": "display_data"
        },
        {
          "data": {
            "application/vnd.jupyter.widget-view+json": {
              "model_id": "61bf59c88ce44e7b8dd16e6dadcbd5dc",
              "version_major": 2,
              "version_minor": 0
            },
            "text/plain": [
              "Validation: |          | 0/? [00:00<?, ?it/s]"
            ]
          },
          "metadata": {},
          "output_type": "display_data"
        },
        {
          "data": {
            "application/vnd.jupyter.widget-view+json": {
              "model_id": "277bddb8e4ae4ff38ba8b8b76b97a871",
              "version_major": 2,
              "version_minor": 0
            },
            "text/plain": [
              "Validation: |          | 0/? [00:00<?, ?it/s]"
            ]
          },
          "metadata": {},
          "output_type": "display_data"
        },
        {
          "name": "stderr",
          "output_type": "stream",
          "text": [
            "INFO: `Trainer.fit` stopped: `max_epochs=5` reached.\n",
            "INFO:lightning.pytorch.utilities.rank_zero:`Trainer.fit` stopped: `max_epochs=5` reached.\n",
            "INFO: 💡 Tip: For seamless cloud uploads and versioning, try installing [litmodels](https://pypi.org/project/litmodels/) to enable LitModelCheckpoint, which syncs automatically with the Lightning model registry.\n",
            "INFO:lightning.pytorch.utilities.rank_zero:💡 Tip: For seamless cloud uploads and versioning, try installing [litmodels](https://pypi.org/project/litmodels/) to enable LitModelCheckpoint, which syncs automatically with the Lightning model registry.\n",
            "INFO: GPU available: True (cuda), used: True\n",
            "INFO:lightning.pytorch.utilities.rank_zero:GPU available: True (cuda), used: True\n",
            "INFO: TPU available: False, using: 0 TPU cores\n",
            "INFO:lightning.pytorch.utilities.rank_zero:TPU available: False, using: 0 TPU cores\n",
            "INFO: HPU available: False, using: 0 HPUs\n",
            "INFO:lightning.pytorch.utilities.rank_zero:HPU available: False, using: 0 HPUs\n",
            "INFO: LOCAL_RANK: 0 - CUDA_VISIBLE_DEVICES: [0]\n",
            "INFO:lightning.pytorch.accelerators.cuda:LOCAL_RANK: 0 - CUDA_VISIBLE_DEVICES: [0]\n"
          ]
        },
        {
          "name": "stdout",
          "output_type": "stream",
          "text": [
            "Making predictions for TFT_with_Tversky...\n",
            "\n",
            "======================================================================\n",
            "DETAILED MODEL COMPARISON\n",
            "======================================================================\n",
            "       Metric     Standard_TFT TFT_with_Tversky     Better Model Improvement\n",
            "TRAINING_TIME     150.9seconds     148.1seconds TFT_with_Tversky       1.84%\n",
            "     VAL_LOSS           0.6147           0.5598 TFT_with_Tversky       8.93%\n",
            "          MAE         371.1090         393.3277     Standard_TFT       5.99%\n",
            "         RMSE         916.1482         933.5557     Standard_TFT       1.90%\n",
            "         MAPE 3049490688.0000% 5116513792.0000%     Standard_TFT      67.78%\n"
          ]
        }
      ],
      "source": [
        "    print(\"Starting model comparison experiment...\")\n",
        "\n",
        "    # Common hyperparameters for both models\n",
        "    common_params = {\n",
        "        'hidden_size': 64,\n",
        "        'attention_head_size': 4,\n",
        "        'dropout': 0.1,\n",
        "        'hidden_continuous_size': 8,\n",
        "        'loss': SMAPE(),\n",
        "        'learning_rate': 0.03,\n",
        "        'reduce_on_plateau_patience': 4,\n",
        "    }\n",
        "\n",
        "    print(\"\\nInitializing models...\")\n",
        "\n",
        "    # Standard TFT\n",
        "    tft_model = TemporalFusionTransformer.from_dataset(\n",
        "        training,\n",
        "        **common_params\n",
        "    )\n",
        "\n",
        "    # TFT with Tversky output layer\n",
        "    tversky_num_features = 64\n",
        "    tft_tversky_model = TFTWithTversky.from_dataset(\n",
        "        training,\n",
        "        tversky_num_features=tversky_num_features,\n",
        "        **common_params\n",
        "    )\n",
        "\n",
        "    print(f\"Standard TFT parameters: {sum(p.numel() for p in tft_model.parameters()):,}\")\n",
        "    print(f\"TFT+Tversky parameters: {sum(p.numel() for p in tft_tversky_model.parameters()):,}\")\n",
        "\n",
        "    max_epochs = 5\n",
        "\n",
        "    results_tft = train_and_evaluate_model(\n",
        "        tft_model, \"Standard_TFT\", train_dataloader, val_dataloader, max_epochs\n",
        "    )\n",
        "\n",
        "    results_tversky = train_and_evaluate_model(\n",
        "        tft_tversky_model, \"TFT_with_Tversky\", train_dataloader, val_dataloader, max_epochs\n",
        "    )\n",
        "\n",
        "    comparison_df = compare_models_detailed(results_tft, results_tversky)\n",
        "\n"
      ]
    },
    {
      "cell_type": "code",
      "execution_count": 6,
      "metadata": {
        "colab": {
          "base_uri": "https://localhost:8080/",
          "height": 1000
        },
        "id": "xNjy0gKwr5g5",
        "outputId": "bf6403cc-3404-49cd-ac51-b84445588133"
      },
      "outputs": [
        {
          "name": "stdout",
          "output_type": "stream",
          "text": [
            "\n",
            "Creating prediction comparison plots...\n"
          ]
        },
        {
          "data": {
            "image/png": "[encoded data removed]",
            "text/plain": [
              "<Figure size 1500x1200 with 4 Axes>"
            ]
          },
          "metadata": {},
          "output_type": "display_data"
        },
        {
          "name": "stdout",
          "output_type": "stream",
          "text": [
            "\n",
            "======================================================================\n",
            "EXPERIMENT SUMMARY\n",
            "======================================================================\n",
            "Better performing model: TFT_with_Tversky\n",
            "Validation loss improvement: 8.93%\n",
            "✅ The Tversky output layer shows improvement over standard TFT!\n",
            "\n",
            "Comparison results saved to 'model_comparison_results.csv'\n",
            "\n",
            "🏁 Experiment completed successfully!\n"
          ]
        }
      ],
      "source": [
        "fig = plot_prediction_comparison(results_tft, results_tversky)\n",
        "\n",
        "print(f\"\\n{'='*70}\")\n",
        "print(\"EXPERIMENT SUMMARY\")\n",
        "print(f\"{'='*70}\")\n",
        "\n",
        "better_model = \"TFT_with_Tversky\" if results_tversky['val_loss'] < results_tft['val_loss'] else \"Standard_TFT\"\n",
        "val_loss_improvement = abs((results_tft['val_loss'] - results_tversky['val_loss']) / results_tft['val_loss']) * 100\n",
        "\n",
        "print(f\"Better performing model: {better_model}\")\n",
        "print(f\"Validation loss improvement: {val_loss_improvement:.2f}%\")\n",
        "\n",
        "if results_tversky['val_loss'] < results_tft['val_loss']:\n",
        "    print(\"✅ The Tversky output layer shows improvement over standard TFT!\")\n",
        "else:\n",
        "    print(\"❌ The Tversky output layer did not improve performance over standard TFT.\")\n",
        "\n",
        "comparison_df.to_csv('model_comparison_results.csv', index=False)\n",
        "print(f\"\\nComparison results saved to 'model_comparison_results.csv'\")\n",
        "\n",
        "print(f\"\\n🏁 Experiment completed successfully!\")"
      ]
    },
    {
      "cell_type": "code",
      "execution_count": null,
      "metadata": {
        "id": "LWDc5JcPxrQA"
      },
      "outputs": [],
      "source": []
    }
  ],
  "metadata": {
    "accelerator": "GPU",
    "colab": {
      "gpuType": "T4",
      "provenance": []
    },
    "kernelspec": {
      "display_name": "Python 3",
      "name": "python3"
    },
    "language_info": {
      "name": "python"
    }
  },
  "nbformat": 4,
  "nbformat_minor": 0
}
